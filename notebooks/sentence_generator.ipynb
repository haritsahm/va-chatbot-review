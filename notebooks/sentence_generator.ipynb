{
 "cells": [
  {
   "cell_type": "code",
   "execution_count": null,
   "id": "4482af32-9678-4980-aecf-7a158a48150d",
   "metadata": {},
   "outputs": [],
   "source": [
    "import os\n",
    "\n",
    "import pandas as pd\n",
    "from tqdm.notebook import tqdm"
   ]
  },
  {
   "cell_type": "code",
   "execution_count": null,
   "id": "a2235417-46b7-4aba-9055-dd1d08a5956b",
   "metadata": {},
   "outputs": [],
   "source": [
    "df = pd.read_csv(\"../data/spotify_reviews_cleaned_filtered_balanced.csv\")"
   ]
  },
  {
   "cell_type": "code",
   "execution_count": null,
   "id": "0fca61f4-6814-4e0d-934e-1a6e1fbbf450",
   "metadata": {},
   "outputs": [
    {
     "name": "stdout",
     "output_type": "stream",
     "text": [
      "<class 'pandas.core.frame.DataFrame'>\n",
      "RangeIndex: 1105624 entries, 0 to 1105623\n",
      "Data columns (total 9 columns):\n",
      " #   Column              Non-Null Count    Dtype \n",
      "---  ------              --------------    ----- \n",
      " 0   Unnamed: 0          1105624 non-null  int64 \n",
      " 1   review_id           1105624 non-null  object\n",
      " 2   author_name         1105624 non-null  object\n",
      " 3   review_text         1105624 non-null  object\n",
      " 4   review_rating       1105624 non-null  int64 \n",
      " 5   review_likes        1105624 non-null  int64 \n",
      " 6   author_app_version  1105624 non-null  object\n",
      " 7   sentiment           1105624 non-null  object\n",
      " 8   review_month        1105624 non-null  object\n",
      "dtypes: int64(3), object(6)\n",
      "memory usage: 75.9+ MB\n"
     ]
    }
   ],
   "source": [
    "df.info()"
   ]
  },
  {
   "cell_type": "code",
   "execution_count": null,
   "id": "aa8de02c-02f0-40e0-a139-4a0f27928f9a",
   "metadata": {},
   "outputs": [
    {
     "data": {
      "text/html": [
       "<div>\n",
       "<style scoped>\n",
       "    .dataframe tbody tr th:only-of-type {\n",
       "        vertical-align: middle;\n",
       "    }\n",
       "\n",
       "    .dataframe tbody tr th {\n",
       "        vertical-align: top;\n",
       "    }\n",
       "\n",
       "    .dataframe thead th {\n",
       "        text-align: right;\n",
       "    }\n",
       "</style>\n",
       "<table border=\"1\" class=\"dataframe\">\n",
       "  <thead>\n",
       "    <tr style=\"text-align: right;\">\n",
       "      <th></th>\n",
       "      <th>Unnamed: 0</th>\n",
       "      <th>review_id</th>\n",
       "      <th>author_name</th>\n",
       "      <th>review_text</th>\n",
       "      <th>review_rating</th>\n",
       "      <th>review_likes</th>\n",
       "      <th>author_app_version</th>\n",
       "      <th>sentiment</th>\n",
       "      <th>review_month</th>\n",
       "    </tr>\n",
       "  </thead>\n",
       "  <tbody>\n",
       "    <tr>\n",
       "      <th>0</th>\n",
       "      <td>0</td>\n",
       "      <td>9542f216-8238-4e77-9f86-2cc076176cdd</td>\n",
       "      <td>A Google user</td>\n",
       "      <td>free music sound turns out flat</td>\n",
       "      <td>5</td>\n",
       "      <td>0</td>\n",
       "      <td>8.5.9.737</td>\n",
       "      <td>Positive</td>\n",
       "      <td>2019-06</td>\n",
       "    </tr>\n",
       "    <tr>\n",
       "      <th>1</th>\n",
       "      <td>1</td>\n",
       "      <td>59399276-ddd8-4bbc-aa4a-cd6bcd500e90</td>\n",
       "      <td>A Google user</td>\n",
       "      <td>i love being able to find the music i like. i ...</td>\n",
       "      <td>5</td>\n",
       "      <td>0</td>\n",
       "      <td>8.5.50.916</td>\n",
       "      <td>Positive</td>\n",
       "      <td>2020-03</td>\n",
       "    </tr>\n",
       "    <tr>\n",
       "      <th>2</th>\n",
       "      <td>2</td>\n",
       "      <td>1d499252-5691-4a11-9b41-3dc84ba096f3</td>\n",
       "      <td>A Google user</td>\n",
       "      <td>i'm loving being able to listen to my music wi...</td>\n",
       "      <td>5</td>\n",
       "      <td>0</td>\n",
       "      <td>3.5.0.963</td>\n",
       "      <td>Positive</td>\n",
       "      <td>2015-08</td>\n",
       "    </tr>\n",
       "    <tr>\n",
       "      <th>3</th>\n",
       "      <td>3</td>\n",
       "      <td>61ec8879-aae8-43d6-bf8b-916a8192d581</td>\n",
       "      <td>A Google user</td>\n",
       "      <td>i recommend premium personally, but it's still...</td>\n",
       "      <td>5</td>\n",
       "      <td>0</td>\n",
       "      <td>3.5.0.963</td>\n",
       "      <td>Positive</td>\n",
       "      <td>2015-08</td>\n",
       "    </tr>\n",
       "    <tr>\n",
       "      <th>4</th>\n",
       "      <td>4</td>\n",
       "      <td>6a508555-a056-4ff7-94a7-b588f0f36614</td>\n",
       "      <td>A Google user</td>\n",
       "      <td>my day wouldn't be complete without spotify.</td>\n",
       "      <td>5</td>\n",
       "      <td>0</td>\n",
       "      <td>8.4.81.558</td>\n",
       "      <td>Positive</td>\n",
       "      <td>2018-12</td>\n",
       "    </tr>\n",
       "  </tbody>\n",
       "</table>\n",
       "</div>"
      ],
      "text/plain": [
       "   Unnamed: 0                             review_id    author_name  \\\n",
       "0           0  9542f216-8238-4e77-9f86-2cc076176cdd  A Google user   \n",
       "1           1  59399276-ddd8-4bbc-aa4a-cd6bcd500e90  A Google user   \n",
       "2           2  1d499252-5691-4a11-9b41-3dc84ba096f3  A Google user   \n",
       "3           3  61ec8879-aae8-43d6-bf8b-916a8192d581  A Google user   \n",
       "4           4  6a508555-a056-4ff7-94a7-b588f0f36614  A Google user   \n",
       "\n",
       "                                         review_text  review_rating  \\\n",
       "0                    free music sound turns out flat              5   \n",
       "1  i love being able to find the music i like. i ...              5   \n",
       "2  i'm loving being able to listen to my music wi...              5   \n",
       "3  i recommend premium personally, but it's still...              5   \n",
       "4       my day wouldn't be complete without spotify.              5   \n",
       "\n",
       "   review_likes author_app_version sentiment review_month  \n",
       "0             0          8.5.9.737  Positive      2019-06  \n",
       "1             0         8.5.50.916  Positive      2020-03  \n",
       "2             0          3.5.0.963  Positive      2015-08  \n",
       "3             0          3.5.0.963  Positive      2015-08  \n",
       "4             0         8.4.81.558  Positive      2018-12  "
      ]
     },
     "execution_count": 4,
     "metadata": {},
     "output_type": "execute_result"
    }
   ],
   "source": [
    "df.head()"
   ]
  },
  {
   "cell_type": "markdown",
   "id": "d24aa0fb-4632-421a-98d0-b1f11d7203cf",
   "metadata": {},
   "source": [
    "# Generating Sentences\n",
    "\n",
    "Because we can't directly use the csv files, we need to extract the most important parts from the data. Because we're working with application reviews and feedback, the most important data are:\n",
    "- 'review_rating'\n",
    "- 'review_text'\n",
    "- 'review_likes'\n",
    "- 'review_month'\n",
    "- 'sentiment'\n",
    "\n",
    "Using these data, we can construct a sentence that is understandable and readable by the vectore store. We can use different kind of sentence format:\n",
    "\n",
    "1. Simple Concatination\n",
    "```\n",
    "{review_text} [Rating: {review_rating}, Sentiment: {sentiment}]\n",
    "```\n",
    "2. Structured Concatination\n",
    "```\n",
    "Review: \"{review_text}\", Rating: {review_rating}, Sentiment: {sentiment}\n",
    "```\n",
    "3. Custom Separator\n",
    "```\n",
    "{review_text} || {review_rating} || {sentiment}\n",
    "```\n",
    "4. Structured Natural Report\n",
    "```\n",
    "As of {review_month}, a user provided a {sentiment} review with a rating of {review_rating} stars. They mentioned: '{review_text}'. This review received {review_likes} upvotes from others.\n",
    "```\n",
    "5. Structured Natural Report with App Version\n",
    "```\n",
    "As of {review_month}, a user provided a {sentiment} review for version {data['major_version']}.{data['minor_version']}.{data['patch_version']} with a rating of {review_rating} stars. They mentioned: '{review_text}'. This review received {review_likes} upvotes from others.\n",
    "```\n",
    "\n",
    "We're going to use the Structured Natural Report because it creates a more readable and understandable format. We can also add other relevant data but keep in mind it will add more tokens for the prompt.\n",
    "\n",
    "Now let's convert the previous csv files into a txt files."
   ]
  },
  {
   "cell_type": "code",
   "execution_count": null,
   "id": "1094096d-3c49-44b0-8e0f-22a64f30ec9e",
   "metadata": {},
   "outputs": [],
   "source": [
    "files = [\n",
    "    \"spotify_reviews_cleaned.csv\",\n",
    "    \"spotify_reviews_cleaned_filtered.csv\",\n",
    "    \"spotify_reviews_cleaned_filtered_balanced.csv\",\n",
    "    \"spotify_filter_version_ratings_count.csv\",\n",
    "]"
   ]
  },
  {
   "cell_type": "code",
   "execution_count": null,
   "id": "9f969177-29ed-4ef4-8403-f09129e33ba0",
   "metadata": {},
   "outputs": [],
   "source": [
    "def combine_sentence(data):\n",
    "    sentence = \"\"\n",
    "    if \"major_version\" in data:\n",
    "        sentence = f\"As of {data['review_month']}, a user provided a {data['sentiment'].lower()} review for version {data['major_version']}.{data['minor_version']}.{data['patch_version']} with a rating of {data['review_rating']} stars. They mentioned: '{data['review_text']}'. This review received {data['review_likes']} upvotes from others.\"\n",
    "    else:\n",
    "        sentence = f\"As of {data['review_month']}, a user provided a {data['sentiment'].lower()} review with a rating of {data['review_rating']} stars. They mentioned: '{data['review_text']}'. This review received {data['review_likes']} upvotes from others.\"\n",
    "    return sentence"
   ]
  },
  {
   "cell_type": "code",
   "execution_count": null,
   "id": "1c333bc7-397d-4866-b829-c3758362477f",
   "metadata": {},
   "outputs": [],
   "source": [
    "for file in files:\n",
    "    file_path = os.path.join(\"../data\", file)\n",
    "    df = pd.read_csv(file_path)\n",
    "    df = df.sample(frac=1)  # shuffle the dataset\n",
    "    df = df.sample(frac=1)  # shuffle it again\n",
    "    df[\"review_month\"] = pd.to_datetime(df[\"review_month\"], format=\"%Y-%m\").dt.strftime(\"%B %Y\")\n",
    "\n",
    "    output_path = file_path.replace(\".csv\", \".txt\")\n",
    "    with open(output_path, \"w\") as f:\n",
    "        for index, data in tqdm(df.iterrows(), total=df.shape[0]):\n",
    "            combined_sentences = combine_sentence(data)\n",
    "            f.write(combined_sentences)\n",
    "            f.write(\"\\n\")"
   ]
  },
  {
   "cell_type": "markdown",
   "id": "248c476d-6cbf-420b-bc6d-79142128abee",
   "metadata": {},
   "source": [
    "# Generate and Store using Deep Lake Vector Store"
   ]
  },
  {
   "cell_type": "markdown",
   "id": "9bf001c7-2b5c-42f5-ad9b-593be0593689",
   "metadata": {},
   "source": [
    "We're going to generate the embeddings and store it using the [Deep Lake Vector Store](https://github.com/activeloopai/deeplake). We're using `OpenAI-text-embedding-ada-002` to compute the embeddings.\n",
    "\n",
    "For now we're only process a single data source. Feel free to try it the other sources (**keep in mind that you'll have to pay for the OpenAI services**).\n",
    "\n",
    "For the text splitter, we're going to use `RecursiveCharacterTextSplitter` with a `chunk_size` of 1000. We can play around with the `chunk_size` using [chunkviz](https://chunkviz.up.railway.app/)"
   ]
  },
  {
   "cell_type": "code",
   "execution_count": null,
   "id": "59f4ca1e-3718-4e08-8adc-2aba95e8d6d8",
   "metadata": {},
   "outputs": [
    {
     "data": {
      "text/plain": [
       "True"
      ]
     },
     "execution_count": 10,
     "metadata": {},
     "output_type": "execute_result"
    }
   ],
   "source": [
    "from dotenv import load_dotenv\n",
    "from langchain.embeddings.openai import OpenAIEmbeddings\n",
    "from langchain.text_splitter import RecursiveCharacterTextSplitter\n",
    "from langchain.vectorstores import DeepLake\n",
    "\n",
    "load_dotenv()"
   ]
  },
  {
   "cell_type": "markdown",
   "id": "e621babf-2ae3-4a45-bb16-bd0e312ae274",
   "metadata": {},
   "source": [
    "### Original Filtered Balanced\n",
    "\n",
    "Because it will going to take roughly 1 hour to compute the entire embeddings (~340K), let's limit the number of embeddings to just 50K. So it should be finished in ~10-15 minutes."
   ]
  },
  {
   "cell_type": "code",
   "execution_count": null,
   "id": "643a2c4f-294f-4d4f-a3f4-9f0aa30406c6",
   "metadata": {},
   "outputs": [],
   "source": [
    "MAX_DOCS = 50000\n",
    "with open(\"../data/spotify_reviews_cleaned_filtered_balanced.txt\", encoding=\"utf-8\") as f:\n",
    "    sample_text = f.read()\n",
    "\n",
    "text_splitter = RecursiveCharacterTextSplitter(\n",
    "    chunk_size=1000,\n",
    "    chunk_overlap=0,\n",
    "    length_function=len,\n",
    ")\n",
    "\n",
    "docs = text_splitter.split_text(sample_text)\n",
    "embeddings = OpenAIEmbeddings(model=\"text-embedding-ada-002\")\n",
    "\n",
    "my_activeloop_dataset_name = \"spotify_reviews_cleaned_filtered_balanced_50K_docs_1000_chunk\"\n",
    "dataset_path = f\"../deeplake/{my_activeloop_dataset_name}\"\n",
    "db = DeepLake(dataset_path=dataset_path, embedding=embeddings, num_workers=4)\n",
    "\n",
    "# Make sure to compute it once\n",
    "if len(db.vectorstore) == 0:\n",
    "    # add documents to our Deep Lake dataset\n",
    "    db.add_texts(docs[:MAX_DOCS])"
   ]
  },
  {
   "cell_type": "code",
   "execution_count": null,
   "id": "9e1c03e8-b866-4c17-8000-1ea397fc50a8",
   "metadata": {},
   "outputs": [
    {
     "name": "stderr",
     "output_type": "stream",
     "text": [
      "/Users/haritsah/.virtualenvs/spotify_recsys/lib/python3.9/site-packages/langchain_core/_api/deprecation.py:189: LangChainDeprecationWarning: The class `OpenAIEmbeddings` was deprecated in LangChain 0.1.0 and will be removed in 0.2.0. Use langchain_openai.OpenAIEmbeddings instead.\n",
      "  warn_deprecated(\n",
      "Creating 50000 embeddings in 100 batches of size 500:: 100%|█████████████████████████████████████| 100/100 [10:28<00:00,  6.28s/it]"
     ]
    },
    {
     "name": "stdout",
     "output_type": "stream",
     "text": [
      "Dataset(path='../deeplake/spotify_filter_version_ratings_count_50K_docs_1000_chunk', tensors=['text', 'metadata', 'embedding', 'id'])\n",
      "\n",
      "  tensor      htype        shape       dtype  compression\n",
      "  -------    -------      -------     -------  ------- \n",
      "   text       text      (50000, 1)      str     None   \n",
      " metadata     json      (50000, 1)      str     None   \n",
      " embedding  embedding  (50000, 1536)  float32   None   \n",
      "    id        text      (50000, 1)      str     None   \n"
     ]
    },
    {
     "name": "stderr",
     "output_type": "stream",
     "text": [
      "\n"
     ]
    }
   ],
   "source": [
    "MAX_DOCS = 50000\n",
    "with open(\"../data/spotify_filter_version_ratings_count.txt\", encoding=\"utf-8\") as f:\n",
    "    sample_text = f.read()\n",
    "\n",
    "text_splitter = RecursiveCharacterTextSplitter(\n",
    "    chunk_size=1000,\n",
    "    chunk_overlap=0,\n",
    "    length_function=len,\n",
    ")\n",
    "\n",
    "docs = text_splitter.split_text(sample_text)\n",
    "embeddings = OpenAIEmbeddings(model=\"text-embedding-ada-002\")\n",
    "\n",
    "my_activeloop_dataset_name = \"spotify_filter_version_ratings_count_50K_docs_1000_chunk\"\n",
    "dataset_path = f\"../deeplake/{my_activeloop_dataset_name}\"\n",
    "db = DeepLake(dataset_path=dataset_path, embedding=embeddings, num_workers=4)\n",
    "\n",
    "# Make sure to compute it once\n",
    "if len(db.vectorstore) == 0:\n",
    "    # add documents to our Deep Lake dataset\n",
    "    db.add_texts(docs[:MAX_DOCS])"
   ]
  },
  {
   "cell_type": "markdown",
   "id": "4b3d36cf-b150-4825-abf7-17bf5728dbbc",
   "metadata": {},
   "source": [
    "## Test Similarity Search"
   ]
  },
  {
   "cell_type": "code",
   "execution_count": null,
   "id": "f9f1cdb4-da8c-46aa-a3fb-40dd22fbd15b",
   "metadata": {},
   "outputs": [
    {
     "name": "stdout",
     "output_type": "stream",
     "text": [
      "through ... iv now got 60-90 so something to simplify the ui would be great for us drivers that need to keep hands on a wheel. keep up the good work.'. This review received 3 upvotes from others.\n"
     ]
    }
   ],
   "source": [
    "# let's see the top relevant documents to a specific query\n",
    "query = \"enjoy awesome ui\"\n",
    "docs = db.similarity_search(query)\n",
    "print(docs[1].page_content)"
   ]
  },
  {
   "cell_type": "code",
   "execution_count": null,
   "id": "b0e2ffa3-14f4-45f5-8ce8-309e8b2c7125",
   "metadata": {},
   "outputs": [
    {
     "data": {
      "text/plain": [
       "[Document(page_content=\"As of June 2023, a user provided a positive review for version 8.8.22 with a rating of 4 stars. They mentioned: 'edit: hey all! i'm a long-time user and premium-payer. for years, i've used this app as my sole music playing platform. a few months ago, they went through with a clunky, awkward, and honestly awful ui update. thankfully, they've seemed to listen to the reviews and have reverted the ui change, at least for the home screen. i'll give em' 4 stars again, mostly for the new ai dj feature, but only 4 because that awful ui persists in the new music, podcasts & shows, and audiobooks tabs at the top.'. This review received 4 upvotes from others.\"),\n",
       " Document(page_content=\"through ... iv now got 60-90 so something to simplify the ui would be great for us drivers that need to keep hands on a wheel. keep up the good work.'. This review received 3 upvotes from others.\"),\n",
       " Document(page_content=\"As of November 2018, a user provided a positive review for version 8.4.78 with a rating of 4 stars. They mentioned: 'i love this app but the new ui makes it harder to find new music! i understand the drive to simplify everything in modern software, however you've just limited the app. all i can do now is scroll through genres or use the browse tab to find fresh beats. besides that, great app. i use it on the daily'. This review received 1 upvotes from others.\\nAs of October 2021, a user provided a positive review for version 8.6.70 with a rating of 4 stars. They mentioned: 'good app, has lots of features and great music discovery algorithms. the ui is too dark, though, and it's confusing to navigate (but still better than other big players).'. This review received 2 upvotes from others.\"),\n",
       " Document(page_content=\"As of April 2023, a user provided a positive review for version 8.8.28 with a rating of 4 stars. They mentioned: 'everything is great but i loved the original and simple to use spotify app. the app has now grown into an ui maze where it takes minutes and steps to get to what i want. still. love it. just wish you guy dont go nuts on making it looks fun and colorful but then hard to use and understand...whats the point then?'. This review received 0 upvotes from others.\")]"
      ]
     },
     "execution_count": 13,
     "metadata": {},
     "output_type": "execute_result"
    }
   ],
   "source": [
    "docs"
   ]
  },
  {
   "cell_type": "code",
   "execution_count": null,
   "id": "6d26becc-4428-42e7-85ba-7b67bc0c650e",
   "metadata": {},
   "outputs": [],
   "source": []
  }
 ],
 "metadata": {
  "kernelspec": {
   "display_name": "Python 3 (ipykernel)",
   "language": "python",
   "name": "python3"
  },
  "language_info": {
   "codemirror_mode": {
    "name": "ipython",
    "version": 3
   },
   "file_extension": ".py",
   "mimetype": "text/x-python",
   "name": "python",
   "nbconvert_exporter": "python",
   "pygments_lexer": "ipython3",
   "version": "3.9.6"
  }
 },
 "nbformat": 4,
 "nbformat_minor": 5
}
