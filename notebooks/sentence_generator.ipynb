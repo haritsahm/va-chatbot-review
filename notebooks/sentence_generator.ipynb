{
 "cells": [
  {
   "cell_type": "code",
   "execution_count": null,
   "id": "4482af32-9678-4980-aecf-7a158a48150d",
   "metadata": {},
   "outputs": [],
   "source": [
    "import os\n",
    "\n",
    "import pandas as pd\n",
    "from tqdm.notebook import tqdm"
   ]
  },
  {
   "cell_type": "markdown",
   "id": "d24aa0fb-4632-421a-98d0-b1f11d7203cf",
   "metadata": {},
   "source": [
    "# Generating Sentences\n",
    "\n",
    "Because we can't directly use the csv files, we need to extract the most important parts from the data. Because we're working with application reviews and feedback, the most important data are:\n",
    "- 'review_rating'\n",
    "- 'review_text'\n",
    "- 'sentiment'\n",
    "\n",
    "Using these data, we can construct a sentence that is understandable and readable by the vectore store. We can use different kind of sentence format:\n",
    "\n",
    "1. Simple Concatination\n",
    "```\n",
    "{review_text} [Rating: {review_rating}, Sentiment: {sentiment}]\n",
    "```\n",
    "2. Structured Concatination\n",
    "```\n",
    "Review: \"{review_text}\", Rating: {review_rating}, Sentiment: {sentiment}\n",
    "```\n",
    "3. Custom Separator\n",
    "```\n",
    "{review_text} || {review_rating} || {sentiment}\n",
    "```\n",
    "4. Structured Natural Report\n",
    "```\n",
    "A user provided a review for the application, giving it a {review_rating} rating. The sentiment expressed was {sentiment} with the following feedback: \"{review_text}\".\n",
    "```\n",
    "\n",
    "We're going to use the Structured Natural Report because it creates a more readable and understandable format. We can also add other relevant data but keep in mind it will add more tokens for the prompt.\n",
    "\n",
    "Now let's convert the previous csv files into a txt files."
   ]
  },
  {
   "cell_type": "code",
   "execution_count": 22,
   "id": "1094096d-3c49-44b0-8e0f-22a64f30ec9e",
   "metadata": {},
   "outputs": [],
   "source": [
    "files = [\n",
    "    \"spotify_reviews_cleaned.csv\",\n",
    "    \"spotify_reviews_cleaned_filtered.csv\",\n",
    "    \"spotify_reviews_cleaned_filtered_balanced.csv\",\n",
    "]"
   ]
  },
  {
   "cell_type": "code",
   "execution_count": 23,
   "id": "1c333bc7-397d-4866-b829-c3758362477f",
   "metadata": {},
   "outputs": [
    {
     "data": {
      "application/vnd.jupyter.widget-view+json": {
       "model_id": "013748ce162e46f5bf53e01e365edc66",
       "version_major": 2,
       "version_minor": 0
      },
      "text/plain": [
       "  0%|          | 0/2710400 [00:00<?, ?it/s]"
      ]
     },
     "metadata": {},
     "output_type": "display_data"
    },
    {
     "data": {
      "application/vnd.jupyter.widget-view+json": {
       "model_id": "e248b5595f0d4cbbb8b777a9fb12439a",
       "version_major": 2,
       "version_minor": 0
      },
      "text/plain": [
       "  0%|          | 0/1784947 [00:00<?, ?it/s]"
      ]
     },
     "metadata": {},
     "output_type": "display_data"
    },
    {
     "data": {
      "application/vnd.jupyter.widget-view+json": {
       "model_id": "eb67ebc539f845eda205d6fa82a76c56",
       "version_major": 2,
       "version_minor": 0
      },
      "text/plain": [
       "  0%|          | 0/1105624 [00:00<?, ?it/s]"
      ]
     },
     "metadata": {},
     "output_type": "display_data"
    }
   ],
   "source": [
    "for file in files:\n",
    "    file_path = os.path.join(\"../data\", file)\n",
    "    df = pd.read_csv(file_path)\n",
    "    df = df.sample(frac=1)  # shuffle the dataset\n",
    "    df = df.sample(frac=1)  # shuffle it again\n",
    "    output_path = file_path.replace(\".csv\", \".txt\")\n",
    "    with open(output_path, \"w\") as f:\n",
    "        for index, data in tqdm(df.iterrows(), total=df.shape[0]):\n",
    "            combined_sentence = (\n",
    "                \"A user provided a review for the application, giving it a {} rating. \"\n",
    "                'The sentiment expressed was {} with the following feedback: \"{}\".'\n",
    "            ).format(data[\"review_rating\"], data[\"sentiment\"], data[\"review_text\"])\n",
    "            f.write(combined_sentence)\n",
    "            f.write(\"\\n\")"
   ]
  },
  {
   "cell_type": "markdown",
   "id": "248c476d-6cbf-420b-bc6d-79142128abee",
   "metadata": {},
   "source": [
    "# Generate and Store using Deep Lake Vector Store\n",
    "\n",
    "We're going to generate the embeddings and store it using the [Deep Lake Vector Store](https://github.com/activeloopai/deeplake). We're using `OpenAI-text-embedding-ada-002` to compute the embeddings.\n",
    "\n",
    "## Text Splitting\n",
    "For the text splitter, we're going to use `RecursiveCharacterTextSplitter` with a `chunk_size` of 1000. We can play around with the `chunk_size` using [chunkviz](https://chunkviz.up.railway.app/)"
   ]
  },
  {
   "cell_type": "code",
   "execution_count": 24,
   "id": "4ff408dc-dd2d-4b08-9eef-18abf514990b",
   "metadata": {},
   "outputs": [],
   "source": [
    "from langchain.text_splitter import RecursiveCharacterTextSplitter\n",
    "\n",
    "with open(\"../data/spotify_reviews_cleaned_filtered_balanced.txt\", encoding=\"utf-8\") as f:\n",
    "    sample_text = f.read()\n",
    "\n",
    "text_splitter = RecursiveCharacterTextSplitter(\n",
    "    chunk_size=1000,\n",
    "    chunk_overlap=0,\n",
    "    length_function=len,\n",
    ")\n",
    "\n",
    "docs = text_splitter.split_text(sample_text)"
   ]
  },
  {
   "cell_type": "code",
   "execution_count": 25,
   "id": "1f798f72-15f5-4623-9def-42eb20c9974e",
   "metadata": {},
   "outputs": [
    {
     "name": "stdout",
     "output_type": "stream",
     "text": [
      "341664\n",
      "A user provided a review for the application, giving it a 1 rating. The sentiment expressed was Negative with the following feedback: \"very bad , more ads, and every option in premium mode only.\".\n",
      "A user provided a review for the application, giving it a 5 rating. The sentiment expressed was Positive with the following feedback: \"love the offline mode\".\n",
      "A user provided a review for the application, giving it a 2 rating. The sentiment expressed was Negative with the following feedback: \"it has been very disappointing lately. the issues i have been facing a lot is the music timeline slider bug and the local music download bug on android. it has been utterly annoying since the last good update around half a year ago. ur programming team needs to sort it out fod a satisfaction experience.\".\n"
     ]
    }
   ],
   "source": [
    "print(len(docs))\n",
    "for doc in docs[:1]:\n",
    "    print(doc)"
   ]
  },
  {
   "cell_type": "markdown",
   "id": "2ae41cd2-0fa4-4015-a223-77f20995494a",
   "metadata": {},
   "source": [
    "## Generating Embeddings"
   ]
  },
  {
   "cell_type": "markdown",
   "id": "9bf001c7-2b5c-42f5-ad9b-593be0593689",
   "metadata": {},
   "source": [
    "For now we're only process a single data source. Feel free to try it the other sources (**keep in mind that you'll have to pay for the OpenAI services**).\n",
    "\n",
    "Because it will going to take roughly 1 hour to compute the entire embeddings (~340K), let's limit the number of embeddings to just 50K. So it should be finished in ~10 minutes"
   ]
  },
  {
   "cell_type": "code",
   "execution_count": 26,
   "id": "9e1c03e8-b866-4c17-8000-1ea397fc50a8",
   "metadata": {},
   "outputs": [
    {
     "name": "stdout",
     "output_type": "stream",
     "text": [
      "Deep Lake Dataset in ../deeplake/spotify_reviews_cleaned_filtered_balanced_50K_docs_1000_chunk already exists, loading from the storage\n"
     ]
    }
   ],
   "source": [
    "from dotenv import load_dotenv\n",
    "from langchain.embeddings.openai import OpenAIEmbeddings\n",
    "from langchain.vectorstores import DeepLake\n",
    "\n",
    "load_dotenv()\n",
    "\n",
    "MAX_DOCS = 50000\n",
    "\n",
    "embeddings = OpenAIEmbeddings(model=\"text-embedding-ada-002\")\n",
    "\n",
    "my_activeloop_dataset_name = \"spotify_reviews_cleaned_filtered_balanced_50K_docs_1000_chunk\"\n",
    "dataset_path = f\"../deeplake/{my_activeloop_dataset_name}\"\n",
    "db = DeepLake(dataset_path=dataset_path, embedding=embeddings, num_workers=4)\n",
    "\n",
    "# Make sure to compute it once\n",
    "if len(db.vectorstore) == 0:\n",
    "    # add documents to our Deep Lake dataset\n",
    "    db.add_texts(docs[:MAX_DOCS])"
   ]
  },
  {
   "cell_type": "markdown",
   "id": "4b3d36cf-b150-4825-abf7-17bf5728dbbc",
   "metadata": {},
   "source": [
    "## Test Similarity Search"
   ]
  },
  {
   "cell_type": "code",
   "execution_count": 27,
   "id": "f9f1cdb4-da8c-46aa-a3fb-40dd22fbd15b",
   "metadata": {},
   "outputs": [
    {
     "name": "stdout",
     "output_type": "stream",
     "text": [
      "A user provided a review for the application, giving it a 1 rating. The sentiment expressed was Negative with the following feedback: \"me parece una vergüenza que las personas que no son premium disfruten de una ui totalmente nueva y agradable a la vista mientras que los que pagamos por el servicio yles estamos dando dinero a la empresa tengamos una ui vieja y desactualizada\".\n",
      "A user provided a review for the application, giving it a 5 rating. The sentiment expressed was Positive with the following feedback: \"great musical experience! love it.\".\n"
     ]
    }
   ],
   "source": [
    "# let's see the top relevant documents to a specific query\n",
    "query = \"enjoy awesome ui\"\n",
    "docs = db.similarity_search(query)\n",
    "print(docs[1].page_content)"
   ]
  },
  {
   "cell_type": "code",
   "execution_count": 28,
   "id": "b0e2ffa3-14f4-45f5-8ce8-309e8b2c7125",
   "metadata": {},
   "outputs": [
    {
     "data": {
      "text/plain": [
       "[Document(page_content='A user provided a review for the application, giving it a 4 rating. The sentiment expressed was Positive with the following feedback: \"edit: great ui revamp, lot has changed since the last time. things are less boxy and i love it. the only improvement i can think of is add a swipe down to minimize now playing.\".'),\n",
       " Document(page_content='A user provided a review for the application, giving it a 1 rating. The sentiment expressed was Negative with the following feedback: \"me parece una vergüenza que las personas que no son premium disfruten de una ui totalmente nueva y agradable a la vista mientras que los que pagamos por el servicio yles estamos dando dinero a la empresa tengamos una ui vieja y desactualizada\".\\nA user provided a review for the application, giving it a 5 rating. The sentiment expressed was Positive with the following feedback: \"great musical experience! love it.\".'),\n",
       " Document(page_content='A user provided a review for the application, giving it a 3 rating. The sentiment expressed was Neutral with the following feedback: \"what is this ui? seriously, this app is a mess. hopefully you\\'re not trying to get to a specific album, artist, or song on quickly, because the first (and only) thing you see on the home screen is suggested playlists. scroll down a little to the \"jump back in\" section and you\\'ll be met with albums you haven\\'t listened to in weeks! it all could be organized so much better, but it looks like the development of the ui was done with a baseball bat and a half-functioning keyboard. so much unnecessary scrolling just to get to desired content.\".\\nA user provided a review for the application, giving it a 5 rating. The sentiment expressed was Positive with the following feedback: \"something very special to listen to\".'),\n",
       " Document(page_content='A user provided a review for the application, giving it a 4 rating. The sentiment expressed was Positive with the following feedback: \"don\\'t like the new ui layout, please give us an option to change it, so we can find the playlist much easier, too much navigation to find tracks now and your trying to show other stuff we don\\'t really care to see. also there us a bug when trying to listen to offline music, a user has to manually switch to offline mode, i assume many other users won\\'t know they have to do that setting. otherwise the mobile app is still ok for the most part, but i\\'m starting to question some of the recent changes.\".\\nA user provided a review for the application, giving it a 5 rating. The sentiment expressed was Positive with the following feedback: \"just too good baby, rock on forever man, may peace love and happiness through killer tunes be here for us forever, cheers 🥂🌹 aloha from maui🌹😁🙏\".')]"
      ]
     },
     "execution_count": 28,
     "metadata": {},
     "output_type": "execute_result"
    }
   ],
   "source": [
    "docs"
   ]
  }
 ],
 "metadata": {
  "kernelspec": {
   "display_name": "Python 3 (ipykernel)",
   "language": "python",
   "name": "python3"
  },
  "language_info": {
   "codemirror_mode": {
    "name": "ipython",
    "version": 3
   },
   "file_extension": ".py",
   "mimetype": "text/x-python",
   "name": "python",
   "nbconvert_exporter": "python",
   "pygments_lexer": "ipython3",
   "version": "3.10.12"
  }
 },
 "nbformat": 4,
 "nbformat_minor": 5
}
