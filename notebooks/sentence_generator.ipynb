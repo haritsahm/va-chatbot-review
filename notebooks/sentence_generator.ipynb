{
 "cells": [
  {
   "cell_type": "code",
   "execution_count": 2,
   "id": "4482af32-9678-4980-aecf-7a158a48150d",
   "metadata": {},
   "outputs": [],
   "source": [
    "import os\n",
    "\n",
    "import pandas as pd\n",
    "from tqdm.notebook import tqdm"
   ]
  },
  {
   "cell_type": "code",
   "execution_count": 4,
   "id": "a2235417-46b7-4aba-9055-dd1d08a5956b",
   "metadata": {},
   "outputs": [],
   "source": [
    "df = pd.read_csv('../data/spotify_reviews_cleaned_filtered_balanced.csv')"
   ]
  },
  {
   "cell_type": "code",
   "execution_count": 5,
   "id": "0fca61f4-6814-4e0d-934e-1a6e1fbbf450",
   "metadata": {},
   "outputs": [
    {
     "name": "stdout",
     "output_type": "stream",
     "text": [
      "<class 'pandas.core.frame.DataFrame'>\n",
      "RangeIndex: 1105624 entries, 0 to 1105623\n",
      "Data columns (total 8 columns):\n",
      " #   Column              Non-Null Count    Dtype \n",
      "---  ------              --------------    ----- \n",
      " 0   Unnamed: 0          1105624 non-null  int64 \n",
      " 1   review_id           1105624 non-null  object\n",
      " 2   author_name         1105624 non-null  object\n",
      " 3   review_text         1105624 non-null  object\n",
      " 4   review_rating       1105624 non-null  int64 \n",
      " 5   author_app_version  1105624 non-null  object\n",
      " 6   sentiment           1105624 non-null  object\n",
      " 7   review_month        1105624 non-null  object\n",
      "dtypes: int64(2), object(6)\n",
      "memory usage: 67.5+ MB\n"
     ]
    }
   ],
   "source": [
    "df.info()"
   ]
  },
  {
   "cell_type": "code",
   "execution_count": 6,
   "id": "aa8de02c-02f0-40e0-a139-4a0f27928f9a",
   "metadata": {},
   "outputs": [
    {
     "data": {
      "text/html": [
       "<div>\n",
       "<style scoped>\n",
       "    .dataframe tbody tr th:only-of-type {\n",
       "        vertical-align: middle;\n",
       "    }\n",
       "\n",
       "    .dataframe tbody tr th {\n",
       "        vertical-align: top;\n",
       "    }\n",
       "\n",
       "    .dataframe thead th {\n",
       "        text-align: right;\n",
       "    }\n",
       "</style>\n",
       "<table border=\"1\" class=\"dataframe\">\n",
       "  <thead>\n",
       "    <tr style=\"text-align: right;\">\n",
       "      <th></th>\n",
       "      <th>Unnamed: 0</th>\n",
       "      <th>review_id</th>\n",
       "      <th>author_name</th>\n",
       "      <th>review_text</th>\n",
       "      <th>review_rating</th>\n",
       "      <th>author_app_version</th>\n",
       "      <th>sentiment</th>\n",
       "      <th>review_month</th>\n",
       "    </tr>\n",
       "  </thead>\n",
       "  <tbody>\n",
       "    <tr>\n",
       "      <th>0</th>\n",
       "      <td>0</td>\n",
       "      <td>bf5609a9-1982-4feb-9922-c4cef1c0d16f</td>\n",
       "      <td>A Google user</td>\n",
       "      <td>its a really good app. i can now listen to any...</td>\n",
       "      <td>5</td>\n",
       "      <td>8.1.0.785</td>\n",
       "      <td>Positive</td>\n",
       "      <td>2017-03</td>\n",
       "    </tr>\n",
       "    <tr>\n",
       "      <th>1</th>\n",
       "      <td>1</td>\n",
       "      <td>30ba3b60-3293-47cc-bc5c-4335155f9f57</td>\n",
       "      <td>ap************ta</td>\n",
       "      <td>it is the best music app ever used</td>\n",
       "      <td>5</td>\n",
       "      <td>8.6.58.994</td>\n",
       "      <td>Positive</td>\n",
       "      <td>2021-09</td>\n",
       "    </tr>\n",
       "    <tr>\n",
       "      <th>2</th>\n",
       "      <td>2</td>\n",
       "      <td>a01eccb8-b848-4e0f-bb68-85e3ac97448c</td>\n",
       "      <td>Sh**********an</td>\n",
       "      <td>everyday is amazing because of spotify. i got ...</td>\n",
       "      <td>5</td>\n",
       "      <td>8.7.4.1056</td>\n",
       "      <td>Positive</td>\n",
       "      <td>2022-02</td>\n",
       "    </tr>\n",
       "    <tr>\n",
       "      <th>3</th>\n",
       "      <td>3</td>\n",
       "      <td>ab926399-d93f-4950-8b8b-ba6d7bd13d40</td>\n",
       "      <td>Vi***********ms</td>\n",
       "      <td>very smooth to use.</td>\n",
       "      <td>5</td>\n",
       "      <td>8.5.70.868</td>\n",
       "      <td>Positive</td>\n",
       "      <td>2020-08</td>\n",
       "    </tr>\n",
       "    <tr>\n",
       "      <th>4</th>\n",
       "      <td>4</td>\n",
       "      <td>6a6f006d-0004-4496-8837-96ed2ca37098</td>\n",
       "      <td>Fa***************in</td>\n",
       "      <td>such a great apps. i love it.</td>\n",
       "      <td>5</td>\n",
       "      <td>8.5.80.1037</td>\n",
       "      <td>Positive</td>\n",
       "      <td>2020-10</td>\n",
       "    </tr>\n",
       "  </tbody>\n",
       "</table>\n",
       "</div>"
      ],
      "text/plain": [
       "   Unnamed: 0                             review_id          author_name  \\\n",
       "0           0  bf5609a9-1982-4feb-9922-c4cef1c0d16f        A Google user   \n",
       "1           1  30ba3b60-3293-47cc-bc5c-4335155f9f57     ap************ta   \n",
       "2           2  a01eccb8-b848-4e0f-bb68-85e3ac97448c       Sh**********an   \n",
       "3           3  ab926399-d93f-4950-8b8b-ba6d7bd13d40      Vi***********ms   \n",
       "4           4  6a6f006d-0004-4496-8837-96ed2ca37098  Fa***************in   \n",
       "\n",
       "                                         review_text  review_rating  \\\n",
       "0  its a really good app. i can now listen to any...              5   \n",
       "1                 it is the best music app ever used              5   \n",
       "2  everyday is amazing because of spotify. i got ...              5   \n",
       "3                                very smooth to use.              5   \n",
       "4                      such a great apps. i love it.              5   \n",
       "\n",
       "  author_app_version sentiment review_month  \n",
       "0          8.1.0.785  Positive      2017-03  \n",
       "1         8.6.58.994  Positive      2021-09  \n",
       "2         8.7.4.1056  Positive      2022-02  \n",
       "3         8.5.70.868  Positive      2020-08  \n",
       "4        8.5.80.1037  Positive      2020-10  "
      ]
     },
     "execution_count": 6,
     "metadata": {},
     "output_type": "execute_result"
    }
   ],
   "source": [
    "df.head()"
   ]
  },
  {
   "cell_type": "markdown",
   "id": "d24aa0fb-4632-421a-98d0-b1f11d7203cf",
   "metadata": {},
   "source": [
    "# Generating Sentences\n",
    "\n",
    "Because we can't directly use the csv files, we need to extract the most important parts from the data. Because we're working with application reviews and feedback, the most important data are:\n",
    "- 'review_rating'\n",
    "- 'review_text'\n",
    "- 'review_likes'\n",
    "- 'review_month'\n",
    "- 'sentiment'\n",
    "\n",
    "Using these data, we can construct a sentence that is understandable and readable by the vectore store. We can use different kind of sentence format:\n",
    "\n",
    "1. Simple Concatination\n",
    "```\n",
    "{review_text} [Rating: {review_rating}, Sentiment: {sentiment}]\n",
    "```\n",
    "2. Structured Concatination\n",
    "```\n",
    "Review: \"{review_text}\", Rating: {review_rating}, Sentiment: {sentiment}\n",
    "```\n",
    "3. Custom Separator\n",
    "```\n",
    "{review_text} || {review_rating} || {sentiment}\n",
    "```\n",
    "4. Structured Natural Report\n",
    "```\n",
    "As of {review_month}, a user provided a {sentiment} review with a rating of {review_rating} stars. They mentioned: '{review_text}'. This review received {review_likes} upvotes from others.\n",
    "```\n",
    "\n",
    "We're going to use the Structured Natural Report because it creates a more readable and understandable format. We can also add other relevant data but keep in mind it will add more tokens for the prompt.\n",
    "\n",
    "Now let's convert the previous csv files into a txt files."
   ]
  },
  {
   "cell_type": "code",
   "execution_count": 1,
   "id": "1094096d-3c49-44b0-8e0f-22a64f30ec9e",
   "metadata": {},
   "outputs": [],
   "source": [
    "files = [\n",
    "    \"spotify_reviews_cleaned.csv\",\n",
    "    \"spotify_reviews_cleaned_filtered.csv\",\n",
    "    \"spotify_reviews_cleaned_filtered_balanced.csv\",\n",
    "]"
   ]
  },
  {
   "cell_type": "code",
   "execution_count": 6,
   "id": "1c333bc7-397d-4866-b829-c3758362477f",
   "metadata": {},
   "outputs": [
    {
     "data": {
      "application/vnd.jupyter.widget-view+json": {
       "model_id": "e278a29ddb6a4a798c93c87a0a378323",
       "version_major": 2,
       "version_minor": 0
      },
      "text/plain": [
       "  0%|          | 0/2710400 [00:00<?, ?it/s]"
      ]
     },
     "metadata": {},
     "output_type": "display_data"
    },
    {
     "data": {
      "application/vnd.jupyter.widget-view+json": {
       "model_id": "60a9de0f76cc438a91b58d482a58b5dc",
       "version_major": 2,
       "version_minor": 0
      },
      "text/plain": [
       "  0%|          | 0/1784947 [00:00<?, ?it/s]"
      ]
     },
     "metadata": {},
     "output_type": "display_data"
    },
    {
     "data": {
      "application/vnd.jupyter.widget-view+json": {
       "model_id": "c921a9ab5ddc4389a0c2ffdedbb27ebc",
       "version_major": 2,
       "version_minor": 0
      },
      "text/plain": [
       "  0%|          | 0/1105624 [00:00<?, ?it/s]"
      ]
     },
     "metadata": {},
     "output_type": "display_data"
    }
   ],
   "source": [
    "for file in files:\n",
    "    file_path = os.path.join(\"../data\", file)\n",
    "    df = pd.read_csv(file_path)\n",
    "    df = df.sample(frac=1)  # shuffle the dataset\n",
    "    df = df.sample(frac=1)  # shuffle it again\n",
    "    df['review_month'] = pd.to_datetime(df['review_month'], format='%Y-%m').dt.strftime('%B %Y')\n",
    "\n",
    "    output_path = file_path.replace(\".csv\", \".txt\")\n",
    "    with open(output_path, \"w\") as f:\n",
    "        for index, data in tqdm(df.iterrows(), total=df.shape[0]):\n",
    "            combined_sentencs = f\"As of {data['review_month']}, a user provided a {data['sentiment'].lower()} review with a rating of {data['review_rating']} stars. They mentioned: '{data['review_text']}'. This review received {data['review_likes']} upvotes from others.\"\n",
    "            f.write(combined_sentencs)\n",
    "            f.write(\"\\n\")"
   ]
  },
  {
   "cell_type": "markdown",
   "id": "248c476d-6cbf-420b-bc6d-79142128abee",
   "metadata": {},
   "source": [
    "# Generate and Store using Deep Lake Vector Store\n",
    "\n",
    "We're going to generate the embeddings and store it using the [Deep Lake Vector Store](https://github.com/activeloopai/deeplake). We're using `OpenAI-text-embedding-ada-002` to compute the embeddings.\n",
    "\n",
    "## Text Splitting\n",
    "For the text splitter, we're going to use `RecursiveCharacterTextSplitter` with a `chunk_size` of 1000. We can play around with the `chunk_size` using [chunkviz](https://chunkviz.up.railway.app/)"
   ]
  },
  {
   "cell_type": "code",
   "execution_count": 12,
   "id": "4ff408dc-dd2d-4b08-9eef-18abf514990b",
   "metadata": {},
   "outputs": [],
   "source": [
    "from langchain.text_splitter import RecursiveCharacterTextSplitter\n",
    "\n",
    "with open(\"../data/spotify_reviews_cleaned_filtered_balanced.txt\", encoding=\"utf-8\") as f:\n",
    "    sample_text = f.read()\n",
    "\n",
    "text_splitter = RecursiveCharacterTextSplitter(\n",
    "    chunk_size=1000,\n",
    "    chunk_overlap=0,\n",
    "    length_function=len,\n",
    ")\n",
    "\n",
    "docs = text_splitter.split_text(sample_text)"
   ]
  },
  {
   "cell_type": "code",
   "execution_count": 13,
   "id": "1f798f72-15f5-4623-9def-42eb20c9974e",
   "metadata": {},
   "outputs": [
    {
     "name": "stdout",
     "output_type": "stream",
     "text": [
      "349659\n",
      "As of September 2023, a user provided a negative review with a rating of 1 stars. They mentioned: 'lyrics are only available if you have premium what kinda business is this'. This review received 0 upvotes from others.\n",
      "As of September 2018, a user provided a negative review with a rating of 1 stars. They mentioned: 'stops playing music randomly.'. This review received 1 upvotes from others.\n",
      "As of October 2015, a user provided a positive review with a rating of 5 stars. They mentioned: 'i love it but wish it was free'. This review received 0 upvotes from others.\n",
      "As of October 2019, a user provided a positive review with a rating of 4 stars. They mentioned: 'wonderful opportunity to listen and download hymns, vocal and instrumental. also the possibility to follow the different artists. sportify gives me great listening pleasure, the hymns help strengthen my christian disposition in life. so grateful for sportify, thank you ever so much.'. This review received 0 upvotes from others.\n"
     ]
    }
   ],
   "source": [
    "print(len(docs))\n",
    "for doc in docs[:1]:\n",
    "    print(doc)"
   ]
  },
  {
   "cell_type": "markdown",
   "id": "2ae41cd2-0fa4-4015-a223-77f20995494a",
   "metadata": {},
   "source": [
    "## Generating Embeddings"
   ]
  },
  {
   "cell_type": "markdown",
   "id": "9bf001c7-2b5c-42f5-ad9b-593be0593689",
   "metadata": {},
   "source": [
    "For now we're only process a single data source. Feel free to try it the other sources (**keep in mind that you'll have to pay for the OpenAI services**).\n",
    "\n",
    "Because it will going to take roughly 1 hour to compute the entire embeddings (~340K), let's limit the number of embeddings to just 50K. So it should be finished in ~10 minutes"
   ]
  },
  {
   "cell_type": "code",
   "execution_count": 14,
   "id": "9e1c03e8-b866-4c17-8000-1ea397fc50a8",
   "metadata": {},
   "outputs": [
    {
     "name": "stderr",
     "output_type": "stream",
     "text": []
    },
    {
     "name": "stderr",
     "output_type": "stream",
     "text": [
      "Creating 50000 embeddings in 100 batches of size 500:: 100%|█████████████████████████████████████| 100/100 [10:44<00:00,  6.44s/it]"
     ]
    },
    {
     "name": "stdout",
     "output_type": "stream",
     "text": [
      "Dataset(path='../deeplake/spotify_reviews_cleaned_filtered_balanced_50K_docs_1000_chunk', tensors=['text', 'metadata', 'embedding', 'id'])\n",
      "\n",
      "  tensor      htype        shape       dtype  compression\n",
      "  -------    -------      -------     -------  ------- \n",
      "   text       text      (50000, 1)      str     None   \n",
      " metadata     json      (50000, 1)      str     None   \n",
      " embedding  embedding  (50000, 1536)  float32   None   \n",
      "    id        text      (50000, 1)      str     None   \n"
     ]
    },
    {
     "name": "stderr",
     "output_type": "stream",
     "text": [
      "\n"
     ]
    }
   ],
   "source": [
    "from dotenv import load_dotenv\n",
    "from langchain.embeddings.openai import OpenAIEmbeddings\n",
    "from langchain.vectorstores import DeepLake\n",
    "\n",
    "load_dotenv()\n",
    "\n",
    "MAX_DOCS = 50000\n",
    "\n",
    "embeddings = OpenAIEmbeddings(model=\"text-embedding-ada-002\")\n",
    "\n",
    "my_activeloop_dataset_name = \"spotify_reviews_cleaned_filtered_balanced_50K_docs_1000_chunk\"\n",
    "dataset_path = f\"../deeplake/{my_activeloop_dataset_name}\"\n",
    "db = DeepLake(dataset_path=dataset_path, embedding=embeddings, num_workers=4)\n",
    "\n",
    "# Make sure to compute it once\n",
    "if len(db.vectorstore) == 0:\n",
    "    # add documents to our Deep Lake dataset\n",
    "    db.add_texts(docs[:MAX_DOCS])"
   ]
  },
  {
   "cell_type": "markdown",
   "id": "4b3d36cf-b150-4825-abf7-17bf5728dbbc",
   "metadata": {},
   "source": [
    "## Test Similarity Search"
   ]
  },
  {
   "cell_type": "code",
   "execution_count": 15,
   "id": "f9f1cdb4-da8c-46aa-a3fb-40dd22fbd15b",
   "metadata": {},
   "outputs": [
    {
     "name": "stdout",
     "output_type": "stream",
     "text": [
      "however has tremendous potential. their playlist are that good, and their ui is fun and delightful. beats music just needs to hurry up before it's too late.'. This review received 4 upvotes from others.\n"
     ]
    }
   ],
   "source": [
    "# let's see the top relevant documents to a specific query\n",
    "query = \"enjoy awesome ui\"\n",
    "docs = db.similarity_search(query)\n",
    "print(docs[1].page_content)"
   ]
  },
  {
   "cell_type": "code",
   "execution_count": 16,
   "id": "b0e2ffa3-14f4-45f5-8ce8-309e8b2c7125",
   "metadata": {},
   "outputs": [
    {
     "data": {
      "text/plain": [
       "[Document(page_content=\"As of January 2016, a user provided a neutral review with a rating of 3 stars. They mentioned: 'ui is such a pain to navigate. download song should be on the ''now playing'' page. also while playing a song from a album, there's no quick view for th rest of the tracks/now playing. good overall, barely uses any battery at all. please improve ui.'. This review received 0 upvotes from others.\\nAs of January 2015, a user provided a positive review with a rating of 4 stars. They mentioned: 'love it just wish their hip hop selection was bigger'. This review received 0 upvotes from others.\\nAs of April 2020, a user provided a neutral review with a rating of 3 stars. They mentioned: 'i had just watched an ad for 30 minutes of uninterrupted music and right after the song that had just played it gave me 3 more ads right after that. and also i am not getting premium, okay.'. This review received 0 upvotes from others.\"),\n",
       " Document(page_content=\"however has tremendous potential. their playlist are that good, and their ui is fun and delightful. beats music just needs to hurry up before it's too late.'. This review received 4 upvotes from others.\"),\n",
       " Document(page_content=\"As of November 2021, a user provided a positive review with a rating of 4 stars. They mentioned: 'i think, the ui should be improved. the present ui looks so simple'. This review received 0 upvotes from others.\\nAs of January 2016, a user provided a positive review with a rating of 4 stars. They mentioned: 'use the app daily! it is def worth every penny and more but the whole list on lock screen has been missing for a while. now i only have the option to change the song forward instead of having the option of the whole playlist or even to replay. that is the only thing that is missing. otherwise it would be perfect. but that lil issue is an inconvenience. especially if u have a long lock password'. This review received 0 upvotes from others.\"),\n",
       " Document(page_content=\"As of January 2016, a user provided a positive review with a rating of 5 stars. They mentioned: 'sound quality better than your rival.though the app ui can be better'. This review received 0 upvotes from others.\\nAs of July 2021, a user provided a neutral review with a rating of 3 stars. They mentioned: 'recent updates to the ui have shown spotify cares more about modern design than usability. the music is good of course, but the last couple of updates have really got on my nerves. the first changed the widget on my homescreen so that the rewind, pause and skip buttons are now just their respective symbols instead of having distinct buttons. the next one made the now playing section inside the app hover, meaning you can very easily tap something behind the controls at the bottom. disappointing.'. This review received 19 upvotes from others.\")]"
      ]
     },
     "execution_count": 16,
     "metadata": {},
     "output_type": "execute_result"
    }
   ],
   "source": [
    "docs"
   ]
  },
  {
   "cell_type": "code",
   "execution_count": null,
   "id": "6d26becc-4428-42e7-85ba-7b67bc0c650e",
   "metadata": {},
   "outputs": [],
   "source": []
  }
 ],
 "metadata": {
  "kernelspec": {
   "display_name": "Python 3 (ipykernel)",
   "language": "python",
   "name": "python3"
  },
  "language_info": {
   "codemirror_mode": {
    "name": "ipython",
    "version": 3
   },
   "file_extension": ".py",
   "mimetype": "text/x-python",
   "name": "python",
   "nbconvert_exporter": "python",
   "pygments_lexer": "ipython3",
   "version": "3.10.12"
  }
 },
 "nbformat": 4,
 "nbformat_minor": 5
}
