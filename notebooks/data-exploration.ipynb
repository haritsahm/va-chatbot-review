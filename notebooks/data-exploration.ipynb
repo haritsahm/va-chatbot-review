{
 "cells": [
  {
   "cell_type": "markdown",
   "id": "052f7c85-bfd6-49c7-997a-e26ce1f58a67",
   "metadata": {},
   "source": [
    "# Data Exploration and Analysis"
   ]
  },
  {
   "cell_type": "code",
   "execution_count": 1,
   "id": "b6d6d876-0a91-4e2a-91e9-c101fe2ccce2",
   "metadata": {},
   "outputs": [
    {
     "name": "stderr",
     "output_type": "stream",
     "text": [
      "[nltk_data] Downloading package stopwords to\n",
      "[nltk_data]     /home/haritsahm/nltk_data...\n",
      "[nltk_data]   Package stopwords is already up-to-date!\n"
     ]
    }
   ],
   "source": [
    "import re\n",
    "import string\n",
    "\n",
    "import matplotlib.pyplot as plt\n",
    "import nltk\n",
    "import numpy as np\n",
    "import pandas as pd\n",
    "import seaborn as sns\n",
    "\n",
    "nltk.download(\"stopwords\")\n",
    "from nltk.corpus import stopwords"
   ]
  },
  {
   "cell_type": "markdown",
   "id": "34018272-61b6-4a75-9aba-d410ce3dc70d",
   "metadata": {},
   "source": [
    "# Dataset Information\n",
    "\n",
    "Read original dataset and understand the relevant informations"
   ]
  },
  {
   "cell_type": "code",
   "execution_count": 2,
   "id": "8d18a2b2-691f-4f15-9827-1b02678f3aa2",
   "metadata": {},
   "outputs": [],
   "source": [
    "df = pd.read_csv(\"../data/SPOTIFY_REVIEWS.csv\")"
   ]
  },
  {
   "cell_type": "code",
   "execution_count": 3,
   "id": "4b375d92-e152-471e-8841-b110f745f427",
   "metadata": {},
   "outputs": [
    {
     "data": {
      "text/html": [
       "<div>\n",
       "<style scoped>\n",
       "    .dataframe tbody tr th:only-of-type {\n",
       "        vertical-align: middle;\n",
       "    }\n",
       "\n",
       "    .dataframe tbody tr th {\n",
       "        vertical-align: top;\n",
       "    }\n",
       "\n",
       "    .dataframe thead th {\n",
       "        text-align: right;\n",
       "    }\n",
       "</style>\n",
       "<table border=\"1\" class=\"dataframe\">\n",
       "  <thead>\n",
       "    <tr style=\"text-align: right;\">\n",
       "      <th></th>\n",
       "      <th>Unnamed: 0</th>\n",
       "      <th>review_id</th>\n",
       "      <th>pseudo_author_id</th>\n",
       "      <th>author_name</th>\n",
       "      <th>review_text</th>\n",
       "      <th>review_rating</th>\n",
       "      <th>review_likes</th>\n",
       "      <th>author_app_version</th>\n",
       "      <th>review_timestamp</th>\n",
       "    </tr>\n",
       "  </thead>\n",
       "  <tbody>\n",
       "    <tr>\n",
       "      <th>0</th>\n",
       "      <td>0</td>\n",
       "      <td>14a011a8-7544-47b4-8480-c502af0ac26f</td>\n",
       "      <td>152618553977019693742</td>\n",
       "      <td>A Google user</td>\n",
       "      <td>Use it every day</td>\n",
       "      <td>5</td>\n",
       "      <td>1</td>\n",
       "      <td>1.1.0.91</td>\n",
       "      <td>2014-05-27 14:21:48</td>\n",
       "    </tr>\n",
       "    <tr>\n",
       "      <th>1</th>\n",
       "      <td>1</td>\n",
       "      <td>bfa8876b-470e-4640-83a7-77427f7f37e8</td>\n",
       "      <td>234382942865437071667</td>\n",
       "      <td>A Google user</td>\n",
       "      <td>I enjoy the awesome UI of this app, and it has...</td>\n",
       "      <td>5</td>\n",
       "      <td>4</td>\n",
       "      <td>1.1.0.91</td>\n",
       "      <td>2014-05-27 14:36:02</td>\n",
       "    </tr>\n",
       "    <tr>\n",
       "      <th>2</th>\n",
       "      <td>2</td>\n",
       "      <td>70e8252f-058a-47d9-b066-df9e1571c970</td>\n",
       "      <td>174473604608358796368</td>\n",
       "      <td>A Google user</td>\n",
       "      <td>Love it! Especially the new design!</td>\n",
       "      <td>5</td>\n",
       "      <td>2</td>\n",
       "      <td>1.1.0.91</td>\n",
       "      <td>2014-05-27 14:40:01</td>\n",
       "    </tr>\n",
       "    <tr>\n",
       "      <th>3</th>\n",
       "      <td>3</td>\n",
       "      <td>672a155a-e81e-4d28-bdeb-a74c031bc072</td>\n",
       "      <td>286593453219054880269</td>\n",
       "      <td>A Google user</td>\n",
       "      <td>Awesome UI, best music app out there!</td>\n",
       "      <td>5</td>\n",
       "      <td>1</td>\n",
       "      <td>1.1.0.91</td>\n",
       "      <td>2014-05-27 15:17:20</td>\n",
       "    </tr>\n",
       "    <tr>\n",
       "      <th>4</th>\n",
       "      <td>4</td>\n",
       "      <td>bbc1bf95-ed36-41a1-8b98-0f2e314caea5</td>\n",
       "      <td>167276875678680630145</td>\n",
       "      <td>A Google user</td>\n",
       "      <td>As a professional Android developer I'm glad t...</td>\n",
       "      <td>5</td>\n",
       "      <td>10</td>\n",
       "      <td>1.1.0.91</td>\n",
       "      <td>2014-05-27 15:26:48</td>\n",
       "    </tr>\n",
       "  </tbody>\n",
       "</table>\n",
       "</div>"
      ],
      "text/plain": [
       "   Unnamed: 0                             review_id       pseudo_author_id  \\\n",
       "0           0  14a011a8-7544-47b4-8480-c502af0ac26f  152618553977019693742   \n",
       "1           1  bfa8876b-470e-4640-83a7-77427f7f37e8  234382942865437071667   \n",
       "2           2  70e8252f-058a-47d9-b066-df9e1571c970  174473604608358796368   \n",
       "3           3  672a155a-e81e-4d28-bdeb-a74c031bc072  286593453219054880269   \n",
       "4           4  bbc1bf95-ed36-41a1-8b98-0f2e314caea5  167276875678680630145   \n",
       "\n",
       "     author_name                                        review_text  \\\n",
       "0  A Google user                                   Use it every day   \n",
       "1  A Google user  I enjoy the awesome UI of this app, and it has...   \n",
       "2  A Google user                Love it! Especially the new design!   \n",
       "3  A Google user              Awesome UI, best music app out there!   \n",
       "4  A Google user  As a professional Android developer I'm glad t...   \n",
       "\n",
       "   review_rating  review_likes author_app_version     review_timestamp  \n",
       "0              5             1           1.1.0.91  2014-05-27 14:21:48  \n",
       "1              5             4           1.1.0.91  2014-05-27 14:36:02  \n",
       "2              5             2           1.1.0.91  2014-05-27 14:40:01  \n",
       "3              5             1           1.1.0.91  2014-05-27 15:17:20  \n",
       "4              5            10           1.1.0.91  2014-05-27 15:26:48  "
      ]
     },
     "execution_count": 3,
     "metadata": {},
     "output_type": "execute_result"
    }
   ],
   "source": [
    "df.head()"
   ]
  },
  {
   "cell_type": "code",
   "execution_count": 4,
   "id": "2811f665-9e67-4b11-bd96-c4a37bb3d6b6",
   "metadata": {},
   "outputs": [
    {
     "name": "stdout",
     "output_type": "stream",
     "text": [
      "<class 'pandas.core.frame.DataFrame'>\n",
      "RangeIndex: 3377423 entries, 0 to 3377422\n",
      "Data columns (total 9 columns):\n",
      " #   Column              Dtype \n",
      "---  ------              ----- \n",
      " 0   Unnamed: 0          int64 \n",
      " 1   review_id           object\n",
      " 2   pseudo_author_id    object\n",
      " 3   author_name         object\n",
      " 4   review_text         object\n",
      " 5   review_rating       int64 \n",
      " 6   review_likes        int64 \n",
      " 7   author_app_version  object\n",
      " 8   review_timestamp    object\n",
      "dtypes: int64(3), object(6)\n",
      "memory usage: 231.9+ MB\n"
     ]
    }
   ],
   "source": [
    "df.info()"
   ]
  },
  {
   "cell_type": "markdown",
   "id": "afaccf5e-8ac5-43f5-a449-072cdc83eced",
   "metadata": {},
   "source": [
    "# Preprocessing"
   ]
  },
  {
   "cell_type": "markdown",
   "id": "03d5a3ee-2928-4aa3-a6b5-68f4099af46c",
   "metadata": {},
   "source": [
    "## Cleanup\n",
    "\n",
    "Clean the dataset by removing duplicates, null/nan values, and remove not relevant columns"
   ]
  },
  {
   "cell_type": "code",
   "execution_count": 5,
   "id": "f5ebb434-07b2-4a80-84b3-a1b021f0773a",
   "metadata": {},
   "outputs": [
    {
     "name": "stdout",
     "output_type": "stream",
     "text": [
      "Unnamed: 0                 0\n",
      "review_id                  0\n",
      "pseudo_author_id           0\n",
      "author_name                0\n",
      "review_text             1022\n",
      "review_rating              0\n",
      "review_likes               0\n",
      "author_app_version    666423\n",
      "review_timestamp           0\n",
      "dtype: int64\n"
     ]
    }
   ],
   "source": [
    "print(df.isnull().sum())  # Null values"
   ]
  },
  {
   "cell_type": "code",
   "execution_count": 6,
   "id": "ebff0b92-6f62-4a9a-b6e4-b1180bb631db",
   "metadata": {},
   "outputs": [
    {
     "data": {
      "text/plain": [
       "Unnamed: 0                 0\n",
       "review_id                  0\n",
       "pseudo_author_id           0\n",
       "author_name                0\n",
       "review_text             1022\n",
       "review_rating              0\n",
       "review_likes               0\n",
       "author_app_version    666423\n",
       "review_timestamp           0\n",
       "dtype: int64"
      ]
     },
     "execution_count": 6,
     "metadata": {},
     "output_type": "execute_result"
    }
   ],
   "source": [
    "df.isna().sum()  # Empty Values"
   ]
  },
  {
   "cell_type": "code",
   "execution_count": 7,
   "id": "d665ea28-34fc-48d1-a8bb-8f54fcf2766b",
   "metadata": {},
   "outputs": [
    {
     "data": {
      "text/plain": [
       "Unnamed: 0            0\n",
       "review_id             0\n",
       "pseudo_author_id      0\n",
       "author_name           0\n",
       "review_text           0\n",
       "review_rating         0\n",
       "review_likes          0\n",
       "author_app_version    0\n",
       "review_timestamp      0\n",
       "dtype: int64"
      ]
     },
     "execution_count": 7,
     "metadata": {},
     "output_type": "execute_result"
    }
   ],
   "source": [
    "## Drop duplicates/null/na\n",
    "\n",
    "df = df.drop_duplicates()  # Removes duplicate rows from the DataFrame\n",
    "df = df.dropna()  # dropping empty values directly since there are only a thousand such records.\n",
    "df.isna().sum()  # after removal of empty values"
   ]
  },
  {
   "cell_type": "code",
   "execution_count": 8,
   "id": "00fc63b5-8a23-4276-935d-caf959610fbd",
   "metadata": {},
   "outputs": [],
   "source": [
    "# Removing columns that are not required\n",
    "df = df.drop([\"Unnamed: 0\", \"pseudo_author_id\"], axis=1)"
   ]
  },
  {
   "cell_type": "code",
   "execution_count": 9,
   "id": "aa1e75fe-b2a9-4e69-8ddf-36e39eef5194",
   "metadata": {},
   "outputs": [
    {
     "name": "stdout",
     "output_type": "stream",
     "text": [
      "<class 'pandas.core.frame.DataFrame'>\n",
      "Index: 2710400 entries, 0 to 3377422\n",
      "Data columns (total 7 columns):\n",
      " #   Column              Dtype \n",
      "---  ------              ----- \n",
      " 0   review_id           object\n",
      " 1   author_name         object\n",
      " 2   review_text         object\n",
      " 3   review_rating       int64 \n",
      " 4   review_likes        int64 \n",
      " 5   author_app_version  object\n",
      " 6   review_timestamp    object\n",
      "dtypes: int64(2), object(5)\n",
      "memory usage: 165.4+ MB\n"
     ]
    }
   ],
   "source": [
    "df.info()"
   ]
  },
  {
   "cell_type": "markdown",
   "id": "90f57db2-4616-487d-b5af-65a7dd69b2dc",
   "metadata": {},
   "source": [
    "## Transformations\n",
    "\n",
    "Apply some complex data into more meaningful information.\n",
    "- Timestamps -> Year/Monthly\n",
    "- Ratings -> Sentiment [Positive/Neutral/Negative] (naive method)\n",
    "- Text cleaning (naive methods)\n",
    "\n",
    "Note:\n",
    "- It'll take more time to perform sentiment analysis especially if we want to perform online dataloading\n",
    "- Cleaning the text with basic methods, i.e. lowercase, remove newline, and whitespaces. This will create a compact sentences."
   ]
  },
  {
   "cell_type": "markdown",
   "id": "ee3592b6-b834-4299-a336-626aaa63db5e",
   "metadata": {},
   "source": [
    "### Generate Sentiment "
   ]
  },
  {
   "cell_type": "code",
   "execution_count": 10,
   "id": "1946986c-000b-4d18-8454-6f09df9a8a6a",
   "metadata": {},
   "outputs": [],
   "source": [
    "df[\"sentiment\"] = \"Negative\"  # adding a new column sentiment and setting all values to negative\n",
    "\n",
    "# making changes according to defined classes for sentiments\n",
    "df.loc[(df[\"review_rating\"] >= 4) & (df[\"review_rating\"] <= 5), \"sentiment\"] = \"Positive\"\n",
    "df.loc[df[\"review_rating\"] == 3, \"sentiment\"] = \"Neutral\""
   ]
  },
  {
   "cell_type": "markdown",
   "id": "2b2e15d4-a208-40e8-af75-6a9de325a763",
   "metadata": {},
   "source": [
    "### Text Cleaning"
   ]
  },
  {
   "cell_type": "code",
   "execution_count": 11,
   "id": "9c0e0238-c8dc-482e-ab16-0b232a4043f8",
   "metadata": {},
   "outputs": [
    {
     "data": {
      "application/vnd.jupyter.widget-view+json": {
       "model_id": "f5a05e734e634d53981e30934dd01c68",
       "version_major": 2,
       "version_minor": 0
      },
      "text/plain": [
       "  0%|          | 0/2710400 [00:00<?, ?it/s]"
      ]
     },
     "metadata": {},
     "output_type": "display_data"
    }
   ],
   "source": [
    "from tqdm.notebook import tqdm\n",
    "\n",
    "tqdm.pandas()\n",
    "\n",
    "\n",
    "# text cleaning function\n",
    "def text_cleaning(text):\n",
    "    text = text.lower()  # converting the text to lowercase\n",
    "    text = re.sub(\"\\n\", \" \", text)  # remove newline characters\n",
    "    text = re.sub(r\"\\s+\", \" \", text)  # remove whitespaces\n",
    "    return text\n",
    "\n",
    "\n",
    "# applying the function to review_text column\n",
    "df[\"review_text\"] = df[\"review_text\"].progress_apply(lambda x: text_cleaning(x))"
   ]
  },
  {
   "cell_type": "code",
   "execution_count": 12,
   "id": "b0849e84-223f-428c-ad96-fcadae346d00",
   "metadata": {},
   "outputs": [
    {
     "data": {
      "text/plain": [
       "review_id             0\n",
       "author_name           0\n",
       "review_text           0\n",
       "review_rating         0\n",
       "review_likes          0\n",
       "author_app_version    0\n",
       "review_timestamp      0\n",
       "sentiment             0\n",
       "dtype: int64"
      ]
     },
     "execution_count": 12,
     "metadata": {},
     "output_type": "execute_result"
    }
   ],
   "source": [
    "df = df.dropna()  # dropping empty values directly since there are only a thousand such records.\n",
    "df.isna().sum()  # after removal of empty values"
   ]
  },
  {
   "cell_type": "code",
   "execution_count": 13,
   "id": "a511bb63-7fd2-460c-8356-c96021a31cb6",
   "metadata": {},
   "outputs": [
    {
     "data": {
      "text/html": [
       "<div>\n",
       "<style scoped>\n",
       "    .dataframe tbody tr th:only-of-type {\n",
       "        vertical-align: middle;\n",
       "    }\n",
       "\n",
       "    .dataframe tbody tr th {\n",
       "        vertical-align: top;\n",
       "    }\n",
       "\n",
       "    .dataframe thead th {\n",
       "        text-align: right;\n",
       "    }\n",
       "</style>\n",
       "<table border=\"1\" class=\"dataframe\">\n",
       "  <thead>\n",
       "    <tr style=\"text-align: right;\">\n",
       "      <th></th>\n",
       "      <th>review_id</th>\n",
       "      <th>author_name</th>\n",
       "      <th>review_text</th>\n",
       "      <th>review_rating</th>\n",
       "      <th>review_likes</th>\n",
       "      <th>author_app_version</th>\n",
       "      <th>review_timestamp</th>\n",
       "      <th>sentiment</th>\n",
       "    </tr>\n",
       "  </thead>\n",
       "  <tbody>\n",
       "    <tr>\n",
       "      <th>0</th>\n",
       "      <td>14a011a8-7544-47b4-8480-c502af0ac26f</td>\n",
       "      <td>A Google user</td>\n",
       "      <td>use it every day</td>\n",
       "      <td>5</td>\n",
       "      <td>1</td>\n",
       "      <td>1.1.0.91</td>\n",
       "      <td>2014-05-27 14:21:48</td>\n",
       "      <td>Positive</td>\n",
       "    </tr>\n",
       "    <tr>\n",
       "      <th>1</th>\n",
       "      <td>bfa8876b-470e-4640-83a7-77427f7f37e8</td>\n",
       "      <td>A Google user</td>\n",
       "      <td>i enjoy the awesome ui of this app, and it has...</td>\n",
       "      <td>5</td>\n",
       "      <td>4</td>\n",
       "      <td>1.1.0.91</td>\n",
       "      <td>2014-05-27 14:36:02</td>\n",
       "      <td>Positive</td>\n",
       "    </tr>\n",
       "    <tr>\n",
       "      <th>2</th>\n",
       "      <td>70e8252f-058a-47d9-b066-df9e1571c970</td>\n",
       "      <td>A Google user</td>\n",
       "      <td>love it! especially the new design!</td>\n",
       "      <td>5</td>\n",
       "      <td>2</td>\n",
       "      <td>1.1.0.91</td>\n",
       "      <td>2014-05-27 14:40:01</td>\n",
       "      <td>Positive</td>\n",
       "    </tr>\n",
       "    <tr>\n",
       "      <th>3</th>\n",
       "      <td>672a155a-e81e-4d28-bdeb-a74c031bc072</td>\n",
       "      <td>A Google user</td>\n",
       "      <td>awesome ui, best music app out there!</td>\n",
       "      <td>5</td>\n",
       "      <td>1</td>\n",
       "      <td>1.1.0.91</td>\n",
       "      <td>2014-05-27 15:17:20</td>\n",
       "      <td>Positive</td>\n",
       "    </tr>\n",
       "    <tr>\n",
       "      <th>4</th>\n",
       "      <td>bbc1bf95-ed36-41a1-8b98-0f2e314caea5</td>\n",
       "      <td>A Google user</td>\n",
       "      <td>as a professional android developer i'm glad t...</td>\n",
       "      <td>5</td>\n",
       "      <td>10</td>\n",
       "      <td>1.1.0.91</td>\n",
       "      <td>2014-05-27 15:26:48</td>\n",
       "      <td>Positive</td>\n",
       "    </tr>\n",
       "  </tbody>\n",
       "</table>\n",
       "</div>"
      ],
      "text/plain": [
       "                              review_id    author_name  \\\n",
       "0  14a011a8-7544-47b4-8480-c502af0ac26f  A Google user   \n",
       "1  bfa8876b-470e-4640-83a7-77427f7f37e8  A Google user   \n",
       "2  70e8252f-058a-47d9-b066-df9e1571c970  A Google user   \n",
       "3  672a155a-e81e-4d28-bdeb-a74c031bc072  A Google user   \n",
       "4  bbc1bf95-ed36-41a1-8b98-0f2e314caea5  A Google user   \n",
       "\n",
       "                                         review_text  review_rating  \\\n",
       "0                                   use it every day              5   \n",
       "1  i enjoy the awesome ui of this app, and it has...              5   \n",
       "2                love it! especially the new design!              5   \n",
       "3              awesome ui, best music app out there!              5   \n",
       "4  as a professional android developer i'm glad t...              5   \n",
       "\n",
       "   review_likes author_app_version     review_timestamp sentiment  \n",
       "0             1           1.1.0.91  2014-05-27 14:21:48  Positive  \n",
       "1             4           1.1.0.91  2014-05-27 14:36:02  Positive  \n",
       "2             2           1.1.0.91  2014-05-27 14:40:01  Positive  \n",
       "3             1           1.1.0.91  2014-05-27 15:17:20  Positive  \n",
       "4            10           1.1.0.91  2014-05-27 15:26:48  Positive  "
      ]
     },
     "execution_count": 13,
     "metadata": {},
     "output_type": "execute_result"
    }
   ],
   "source": [
    "df.head()"
   ]
  },
  {
   "cell_type": "code",
   "execution_count": 14,
   "id": "fd72da9a-7f89-48fd-8e59-8365bdaac872",
   "metadata": {},
   "outputs": [
    {
     "name": "stdout",
     "output_type": "stream",
     "text": [
      "<class 'pandas.core.frame.DataFrame'>\n",
      "Index: 2710400 entries, 0 to 3377422\n",
      "Data columns (total 8 columns):\n",
      " #   Column              Dtype \n",
      "---  ------              ----- \n",
      " 0   review_id           object\n",
      " 1   author_name         object\n",
      " 2   review_text         object\n",
      " 3   review_rating       int64 \n",
      " 4   review_likes        int64 \n",
      " 5   author_app_version  object\n",
      " 6   review_timestamp    object\n",
      " 7   sentiment           object\n",
      "dtypes: int64(2), object(6)\n",
      "memory usage: 186.1+ MB\n"
     ]
    }
   ],
   "source": [
    "df.info()"
   ]
  },
  {
   "cell_type": "markdown",
   "id": "7a84b13c-44b9-456b-bf15-8665ccd8ddff",
   "metadata": {},
   "source": [
    "### Generate Additional Informations"
   ]
  },
  {
   "cell_type": "code",
   "execution_count": 15,
   "id": "69c65e16-7662-4f48-958a-f040b99dfe2d",
   "metadata": {},
   "outputs": [],
   "source": [
    "# extract year and month from datetime and transform to string\n",
    "df[\"review_month\"] = pd.to_datetime(df[\"review_timestamp\"]).dt.to_period(\"M\").astype(str)\n",
    "df[\"author_app_version\"] = df[\"author_app_version\"].fillna(\"None\")\n",
    "# Split sentences into words and count the number of words in each row\n",
    "df[\"word_count\"] = df[\"review_text\"].str.split().apply(len)\n",
    "\n",
    "df = df.drop([\"review_timestamp\"], axis=1)"
   ]
  },
  {
   "cell_type": "markdown",
   "id": "90b728fe-1ece-4f9a-bdda-a0952a6728a0",
   "metadata": {},
   "source": [
    "## Save Dataset"
   ]
  },
  {
   "cell_type": "code",
   "execution_count": 16,
   "id": "36c63824-f64a-45e5-ab4b-97c20957fd19",
   "metadata": {},
   "outputs": [],
   "source": [
    "df.to_csv(\"../data/spotify_reviews_cleaned.csv\")"
   ]
  },
  {
   "cell_type": "markdown",
   "id": "21ee337a-ddf7-448d-97b6-ef038439889a",
   "metadata": {},
   "source": [
    "# Statistics - Cleaned"
   ]
  },
  {
   "cell_type": "code",
   "execution_count": 17,
   "id": "c9fcb0b8-473b-4c60-a643-d3aff985085b",
   "metadata": {},
   "outputs": [],
   "source": [
    "# df = pd.to_csv(\"../data/spotify_reviews_cleaned.csv\")"
   ]
  },
  {
   "cell_type": "markdown",
   "id": "2e064acd-46cc-4906-a5c6-15a375d932dc",
   "metadata": {},
   "source": [
    "## Rating Distributions"
   ]
  },
  {
   "cell_type": "code",
   "execution_count": 18,
   "id": "a0e7714d-8ecb-4bb2-b951-d881aa2bf9a7",
   "metadata": {},
   "outputs": [
    {
     "name": "stdout",
     "output_type": "stream",
     "text": [
      "review_rating\n",
      "5    1780446\n",
      "1     379820\n",
      "4     291536\n",
      "3     146488\n",
      "2     112110\n",
      "Name: count, dtype: int64\n"
     ]
    },
    {
     "name": "stderr",
     "output_type": "stream",
     "text": [
      "/tmp/ipykernel_227925/2013819730.py:6: FutureWarning: \n",
      "\n",
      "Passing `palette` without assigning `hue` is deprecated and will be removed in v0.14.0. Assign the `x` variable to `hue` and set `legend=False` for the same effect.\n",
      "\n",
      "  sns.countplot(x=\"review_rating\", data=df, palette=\"viridis\")\n"
     ]
    },
    {
     "data": {
      "image/png": "[encoded data removed]",
      "text/plain": [
       "<Figure size 800x500 with 1 Axes>"
      ]
     },
     "metadata": {},
     "output_type": "display_data"
    }
   ],
   "source": [
    "# Plotting counts of ratings for visualization\n",
    "\n",
    "print(df[\"review_rating\"].value_counts())  # distribution of ratings\n",
    "\n",
    "plt.figure(figsize=(8, 5))\n",
    "sns.countplot(x=\"review_rating\", data=df, palette=\"viridis\")\n",
    "plt.title(\"Countplot of Ratings\")\n",
    "plt.xlabel(\"Ratings\")\n",
    "plt.ylabel(\"Count\")\n",
    "plt.show()"
   ]
  },
  {
   "cell_type": "markdown",
   "id": "60b7052c-e075-4ef8-a8df-24c0e860cc3c",
   "metadata": {},
   "source": [
    "## Sentiment Distributions"
   ]
  },
  {
   "cell_type": "code",
   "execution_count": 19,
   "id": "d5780cbb-e6ce-4151-9915-e1e71f978f74",
   "metadata": {},
   "outputs": [
    {
     "name": "stdout",
     "output_type": "stream",
     "text": [
      "sentiment\n",
      "Positive    2071982\n",
      "Negative     491930\n",
      "Neutral      146488\n",
      "Name: count, dtype: int64\n"
     ]
    },
    {
     "name": "stderr",
     "output_type": "stream",
     "text": [
      "/tmp/ipykernel_227925/1092819409.py:6: FutureWarning: \n",
      "\n",
      "Passing `palette` without assigning `hue` is deprecated and will be removed in v0.14.0. Assign the `x` variable to `hue` and set `legend=False` for the same effect.\n",
      "\n",
      "  sns.countplot(x=\"sentiment\", data=df, palette=\"viridis\")\n"
     ]
    },
    {
     "data": {
      "image/png": "[encoded data removed]",
      "text/plain": [
       "<Figure size 800x500 with 1 Axes>"
      ]
     },
     "metadata": {},
     "output_type": "display_data"
    }
   ],
   "source": [
    "# Plotting counts of sentiment classes for visualization\n",
    "\n",
    "print(df[\"sentiment\"].value_counts())  # distribution of ratings\n",
    "\n",
    "plt.figure(figsize=(8, 5))\n",
    "sns.countplot(x=\"sentiment\", data=df, palette=\"viridis\")\n",
    "plt.title(\"Countplot of Sentiment\")\n",
    "plt.xlabel(\"Sentiment\")\n",
    "plt.ylabel(\"Count\")\n",
    "plt.show()"
   ]
  },
  {
   "cell_type": "markdown",
   "id": "1f37de8a-d753-4913-9ffb-5ac901fcb14d",
   "metadata": {},
   "source": [
    "## Text Counts"
   ]
  },
  {
   "cell_type": "code",
   "execution_count": 20,
   "id": "91792dba-3bc1-4821-87c4-034e32d3a669",
   "metadata": {},
   "outputs": [],
   "source": [
    "# Split sentences into words and count the number of words in each row\n",
    "df[\"word_count\"] = df[\"review_text\"].str.split().apply(len)"
   ]
  },
  {
   "cell_type": "code",
   "execution_count": 21,
   "id": "780f2186-4a81-457a-8943-09409aeb790e",
   "metadata": {},
   "outputs": [
    {
     "data": {
      "text/plain": [
       "min       1.000000\n",
       "max     699.000000\n",
       "mean     13.641388\n",
       "Name: word_count, dtype: float64"
      ]
     },
     "execution_count": 21,
     "metadata": {},
     "output_type": "execute_result"
    }
   ],
   "source": [
    "df[\"word_count\"].agg([\"min\", \"max\", \"mean\"])"
   ]
  },
  {
   "cell_type": "markdown",
   "id": "6a859c19-a961-47ee-a6c2-f36b5cc02179",
   "metadata": {},
   "source": [
    "# Filtering Dataset\n",
    "\n",
    "We were able to reduce the data by 19.7495% after applying data preprocessing. Even with 2.7M data left, we might not have enough memory to load the entire data.\n",
    "\n",
    "Since we're going to analyze the user experiences with our app, we need to make sure that each review must have reasons to ensure that the review has full context. We don't want the reviews only contain irrelevant data such as:\n",
    "- \"Awe..Sum!!!\"\n",
    "- \"Fun!!\"\n",
    "- \"Great\"\n",
    "- \"Bleddy ansum app!\"\n",
    "- \"It is great\"\n",
    "\n",
    "We're going to use a **naive approach** to filter such that the reviews contain **more than 3 words** such that it contains:\n",
    "- \"Beats Pandora any day any time\"\n",
    "- \"Fantastic app. Great music.\"\n",
    "- \"I love the variety of music they have\"\n",
    "- \"Have to download playlist again bullshit!\""
   ]
  },
  {
   "cell_type": "code",
   "execution_count": 22,
   "id": "4357aca8-15f3-4b01-98ce-3360dd49ae38",
   "metadata": {},
   "outputs": [],
   "source": [
    "# Filter out rows where the word count is less than 3\n",
    "df = df[df[\"word_count\"] > 3]\n",
    "\n",
    "# Drop the 'word_count' column if you don't need it anymore\n",
    "df = df.drop(\"word_count\", axis=1)"
   ]
  },
  {
   "cell_type": "code",
   "execution_count": 23,
   "id": "f5877201-7993-450b-a570-99375d072da4",
   "metadata": {},
   "outputs": [],
   "source": [
    "df.to_csv(\"../data/spotify_reviews_cleaned_filtered.csv\")"
   ]
  },
  {
   "cell_type": "markdown",
   "id": "089c42da-6f98-46d5-a959-961fcfa37962",
   "metadata": {},
   "source": [
    "# Handling Imbalanced Dataset\n",
    "\n",
    "Noticed that from the previous statistics, we clearly can see that there is an imbalance with the number of data based on the number ratings provided by the users. Even though we can try to load the entire dataset, let's try to reduce the number of relevant data especially the highest rating.\n",
    "\n",
    "**Assume that the positive ratings already contains a lot of similar informations**, lets reduce the data in rating 5 such that it has the same amount of data with the lowest ratings. This way, we can **reduce the number of data by 38.0584%**\n",
    "\n",
    "With the naive approach of randomly sampling the rating '5' sets, we still have enough and relevant information from the original set."
   ]
  },
  {
   "cell_type": "code",
   "execution_count": 24,
   "id": "39d9a7f4-3a3e-4943-8c3b-e52bf3a6a17f",
   "metadata": {},
   "outputs": [],
   "source": [
    "# Naive way to get max total value from the second top values\n",
    "max_total = df[\"review_rating\"].value_counts().sort_values(ascending=False).loc[1]\n",
    "\n",
    "# Calculate the total count for each value in 'review_rating'\n",
    "value_counts = df[\"review_rating\"].value_counts()\n",
    "\n",
    "balanced_df = pd.DataFrame()\n",
    "\n",
    "# Iterate over unique values in 'your_column'\n",
    "for value in df[\"review_rating\"].unique():\n",
    "    # Filter rows with the current value\n",
    "    subset = df[df[\"review_rating\"] == value]\n",
    "\n",
    "    # Sample the subset to achieve the maximum total count\n",
    "    sampled_subset = subset.sample(min(max_total, value_counts[value]))\n",
    "\n",
    "    # Append the sampled subset to the balanced DataFrame\n",
    "    balanced_df = pd.concat([balanced_df, sampled_subset], ignore_index=True)"
   ]
  },
  {
   "cell_type": "code",
   "execution_count": 25,
   "id": "53d9f020-6c06-49f8-b529-9d72bcd796ed",
   "metadata": {},
   "outputs": [
    {
     "name": "stdout",
     "output_type": "stream",
     "text": [
      "review_rating\n",
      "5    326615\n",
      "1    326615\n",
      "4    218086\n",
      "3    129143\n",
      "2    105165\n",
      "Name: count, dtype: int64\n"
     ]
    },
    {
     "name": "stderr",
     "output_type": "stream",
     "text": [
      "/tmp/ipykernel_227925/3640129916.py:6: FutureWarning: \n",
      "\n",
      "Passing `palette` without assigning `hue` is deprecated and will be removed in v0.14.0. Assign the `x` variable to `hue` and set `legend=False` for the same effect.\n",
      "\n",
      "  sns.countplot(x=\"review_rating\", data=balanced_df, palette=\"viridis\")\n"
     ]
    },
    {
     "data": {
      "image/png": "[encoded data removed]",
      "text/plain": [
       "<Figure size 800x500 with 1 Axes>"
      ]
     },
     "metadata": {},
     "output_type": "display_data"
    }
   ],
   "source": [
    "# Plotting counts of ratings for visualization\n",
    "\n",
    "print(balanced_df[\"review_rating\"].value_counts())  # distribution of ratings\n",
    "\n",
    "plt.figure(figsize=(8, 5))\n",
    "sns.countplot(x=\"review_rating\", data=balanced_df, palette=\"viridis\")\n",
    "plt.title(\"Countplot of Ratings\")\n",
    "plt.xlabel(\"Ratings\")\n",
    "plt.ylabel(\"Count\")\n",
    "plt.show()"
   ]
  },
  {
   "cell_type": "code",
   "execution_count": 26,
   "id": "e14a9431-92c6-4a8a-8faa-98970c1b1cf3",
   "metadata": {},
   "outputs": [
    {
     "name": "stdout",
     "output_type": "stream",
     "text": [
      "<class 'pandas.core.frame.DataFrame'>\n",
      "RangeIndex: 1105624 entries, 0 to 1105623\n",
      "Data columns (total 8 columns):\n",
      " #   Column              Non-Null Count    Dtype \n",
      "---  ------              --------------    ----- \n",
      " 0   review_id           1105624 non-null  object\n",
      " 1   author_name         1105624 non-null  object\n",
      " 2   review_text         1105624 non-null  object\n",
      " 3   review_rating       1105624 non-null  int64 \n",
      " 4   review_likes        1105624 non-null  int64 \n",
      " 5   author_app_version  1105624 non-null  object\n",
      " 6   sentiment           1105624 non-null  object\n",
      " 7   review_month        1105624 non-null  object\n",
      "dtypes: int64(2), object(6)\n",
      "memory usage: 67.5+ MB\n"
     ]
    }
   ],
   "source": [
    "balanced_df.info()"
   ]
  },
  {
   "cell_type": "code",
   "execution_count": 27,
   "id": "ce1d404f-0015-4f41-8a6e-ad932c13a9a1",
   "metadata": {},
   "outputs": [
    {
     "data": {
      "text/plain": [
       "review_id             0\n",
       "author_name           0\n",
       "review_text           0\n",
       "review_rating         0\n",
       "review_likes          0\n",
       "author_app_version    0\n",
       "sentiment             0\n",
       "review_month          0\n",
       "dtype: int64"
      ]
     },
     "execution_count": 27,
     "metadata": {},
     "output_type": "execute_result"
    }
   ],
   "source": [
    "balanced_df.isnull().sum()"
   ]
  },
  {
   "cell_type": "code",
   "execution_count": 28,
   "id": "74d4e490-3eaa-42ff-ba64-8f71d38dad75",
   "metadata": {},
   "outputs": [
    {
     "data": {
      "text/html": [
       "<div>\n",
       "<style scoped>\n",
       "    .dataframe tbody tr th:only-of-type {\n",
       "        vertical-align: middle;\n",
       "    }\n",
       "\n",
       "    .dataframe tbody tr th {\n",
       "        vertical-align: top;\n",
       "    }\n",
       "\n",
       "    .dataframe thead th {\n",
       "        text-align: right;\n",
       "    }\n",
       "</style>\n",
       "<table border=\"1\" class=\"dataframe\">\n",
       "  <thead>\n",
       "    <tr style=\"text-align: right;\">\n",
       "      <th></th>\n",
       "      <th>review_id</th>\n",
       "      <th>author_name</th>\n",
       "      <th>review_text</th>\n",
       "      <th>review_rating</th>\n",
       "      <th>review_likes</th>\n",
       "      <th>author_app_version</th>\n",
       "      <th>sentiment</th>\n",
       "      <th>review_month</th>\n",
       "    </tr>\n",
       "  </thead>\n",
       "  <tbody>\n",
       "    <tr>\n",
       "      <th>0</th>\n",
       "      <td>c4da42fc-3ef1-49ae-8327-2991960a42f8</td>\n",
       "      <td>CM***hy</td>\n",
       "      <td>quick and easy access to music. not the depth ...</td>\n",
       "      <td>5</td>\n",
       "      <td>0</td>\n",
       "      <td>8.5.89.901</td>\n",
       "      <td>Positive</td>\n",
       "      <td>2021-01</td>\n",
       "    </tr>\n",
       "    <tr>\n",
       "      <th>1</th>\n",
       "      <td>e54a7f89-35b0-4ed3-98f6-56192fd0039b</td>\n",
       "      <td>Ra********mi</td>\n",
       "      <td>awesome feature everything is good</td>\n",
       "      <td>5</td>\n",
       "      <td>0</td>\n",
       "      <td>8.7.40.777</td>\n",
       "      <td>Positive</td>\n",
       "      <td>2022-06</td>\n",
       "    </tr>\n",
       "    <tr>\n",
       "      <th>2</th>\n",
       "      <td>f0fd1545-3864-44cd-9a6a-c7a9ab04687d</td>\n",
       "      <td>A Google user</td>\n",
       "      <td>i love this app for music on my phone and my c...</td>\n",
       "      <td>5</td>\n",
       "      <td>0</td>\n",
       "      <td>1.8.0.993</td>\n",
       "      <td>Positive</td>\n",
       "      <td>2014-12</td>\n",
       "    </tr>\n",
       "    <tr>\n",
       "      <th>3</th>\n",
       "      <td>954e417e-cc8e-4df3-ae8d-fac70bb5d07e</td>\n",
       "      <td>A Google user</td>\n",
       "      <td>i like the selections and the playback over in...</td>\n",
       "      <td>5</td>\n",
       "      <td>0</td>\n",
       "      <td>8.5.18.934</td>\n",
       "      <td>Positive</td>\n",
       "      <td>2019-08</td>\n",
       "    </tr>\n",
       "    <tr>\n",
       "      <th>4</th>\n",
       "      <td>49e2b760-99f7-42bd-909c-d9adddcfb3d3</td>\n",
       "      <td>A Google user</td>\n",
       "      <td>your music anytime and anywhere, love it</td>\n",
       "      <td>5</td>\n",
       "      <td>1</td>\n",
       "      <td>8.4.89.515</td>\n",
       "      <td>Positive</td>\n",
       "      <td>2019-01</td>\n",
       "    </tr>\n",
       "  </tbody>\n",
       "</table>\n",
       "</div>"
      ],
      "text/plain": [
       "                              review_id    author_name  \\\n",
       "0  c4da42fc-3ef1-49ae-8327-2991960a42f8        CM***hy   \n",
       "1  e54a7f89-35b0-4ed3-98f6-56192fd0039b   Ra********mi   \n",
       "2  f0fd1545-3864-44cd-9a6a-c7a9ab04687d  A Google user   \n",
       "3  954e417e-cc8e-4df3-ae8d-fac70bb5d07e  A Google user   \n",
       "4  49e2b760-99f7-42bd-909c-d9adddcfb3d3  A Google user   \n",
       "\n",
       "                                         review_text  review_rating  \\\n",
       "0  quick and easy access to music. not the depth ...              5   \n",
       "1                 awesome feature everything is good              5   \n",
       "2  i love this app for music on my phone and my c...              5   \n",
       "3  i like the selections and the playback over in...              5   \n",
       "4           your music anytime and anywhere, love it              5   \n",
       "\n",
       "   review_likes author_app_version sentiment review_month  \n",
       "0             0         8.5.89.901  Positive      2021-01  \n",
       "1             0         8.7.40.777  Positive      2022-06  \n",
       "2             0          1.8.0.993  Positive      2014-12  \n",
       "3             0         8.5.18.934  Positive      2019-08  \n",
       "4             1         8.4.89.515  Positive      2019-01  "
      ]
     },
     "execution_count": 28,
     "metadata": {},
     "output_type": "execute_result"
    }
   ],
   "source": [
    "balanced_df.head()"
   ]
  },
  {
   "cell_type": "code",
   "execution_count": 29,
   "id": "179ba966-3fda-47d2-b5dc-091ad243a736",
   "metadata": {},
   "outputs": [],
   "source": [
    "balanced_df.to_csv(\"../data/spotify_reviews_cleaned_filtered_balanced.csv\")"
   ]
  },
  {
   "cell_type": "markdown",
   "id": "d56fddba-d2b4-4652-ba4b-6d3921bf3cab",
   "metadata": {},
   "source": [
    "# DONE!"
   ]
  }
 ],
 "metadata": {
  "kernelspec": {
   "display_name": "Python 3 (ipykernel)",
   "language": "python",
   "name": "python3"
  },
  "language_info": {
   "codemirror_mode": {
    "name": "ipython",
    "version": 3
   },
   "file_extension": ".py",
   "mimetype": "text/x-python",
   "name": "python",
   "nbconvert_exporter": "python",
   "pygments_lexer": "ipython3",
   "version": "3.9.6"
  }
 },
 "nbformat": 4,
 "nbformat_minor": 5
}
